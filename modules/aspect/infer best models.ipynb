{
 "cells": [
  {
   "cell_type": "code",
   "execution_count": 1,
   "id": "6e616d99",
   "metadata": {},
   "outputs": [
    {
     "name": "stderr",
     "output_type": "stream",
     "text": [
      "C:\\ProgramData\\Anaconda3\\envs\\tensorflow\\lib\\site-packages\\tensorflow_addons\\utils\\ensure_tf_install.py:67: UserWarning: Tensorflow Addons supports using Python ops for all Tensorflow versions above or equal to 2.6.0 and strictly below 2.9.0 (nightly versions are not supported). \n",
      " The versions of TensorFlow you are currently using is 2.3.0 and is not supported. \n",
      "Some things might work, some things might not.\n",
      "If you were to encounter a bug, do not file an issue.\n",
      "If you want to make sure you're using a tested and supported configuration, either change the TensorFlow version or the TensorFlow Addons's version. \n",
      "You can find the compatibility matrix in TensorFlow Addon's readme:\n",
      "https://github.com/tensorflow/addons\n",
      "  UserWarning,\n"
     ]
    }
   ],
   "source": [
    "import numpy as np\n",
    "import tensorflow as tf\n",
    "from tensorflow import keras\n",
    "import pandas as pd\n",
    "\n",
    "\n",
    "from tensorflow.keras.layers import Dense, Input, LSTM, Embedding, Dropout, Activation, Conv1D,GRU\n",
    "from tensorflow.keras.layers import Bidirectional, GlobalMaxPool1D, Concatenate\n",
    "from tensorflow.keras.models import Model,load_model\n",
    "from tensorflow.keras.preprocessing.sequence import pad_sequences\n",
    "from tensorflow.keras.utils import plot_model\n",
    "from tensorflow.keras.models import Sequential\n",
    "from tensorflow.keras.callbacks import ModelCheckpoint,EarlyStopping\n",
    "from tensorflow.keras.optimizers import Adam\n",
    "import tensorflow_addons as tfa\n",
    "import json\n",
    "import numpy as np\n",
    "from sklearn.model_selection import train_test_split"
   ]
  },
  {
   "cell_type": "code",
   "execution_count": 11,
   "id": "4088e74b",
   "metadata": {},
   "outputs": [],
   "source": [
    "max_len=40\n",
    "feat_vec = 300\n",
    "with open (\"../../encode_data_tiki.txt\", \"r\") as f:\n",
    "    encode_data_tiki = json.loads(f.read())\n",
    "padded_doc_tiki=pad_sequences(encode_data_tiki,maxlen=max_len,padding=\"post\")\n",
    "with open (\"../../output_tiki.txt\", \"r\") as f:\n",
    "    output_ori_tiki = np.array(json.loads(f.read()))\n",
    "X_train_tiki, X_test_tiki, y_train_ori_tiki, y_test_ori_tiki = train_test_split(padded_doc_tiki, output_ori_tiki, test_size=0.2, random_state=14)\n"
   ]
  },
  {
   "cell_type": "code",
   "execution_count": 25,
   "id": "75ab2ba8",
   "metadata": {},
   "outputs": [],
   "source": [
    "y_test_tiki = np.delete(y_test_ori_tiki, 6, 1)\n"
   ]
  },
  {
   "cell_type": "code",
   "execution_count": 12,
   "id": "11ee98a6",
   "metadata": {},
   "outputs": [
    {
     "data": {
      "text/plain": [
       "4514"
      ]
     },
     "execution_count": 12,
     "metadata": {},
     "output_type": "execute_result"
    }
   ],
   "source": [
    "embed_trained = np.load('./weights/embedding_trained_mat.npy')\n",
    "lstm_trained = np.load('./weights/lstm_trained_mat.npy', allow_pickle=True)\n",
    "# len(lstm_trained)\n",
    "embed_mat = np.load('./weights/embedding_mat.npy')\n",
    "# len(embed_mat)\n",
    "len(embed_trained[0])"
   ]
  },
  {
   "cell_type": "code",
   "execution_count": 66,
   "id": "dbbc88cc",
   "metadata": {},
   "outputs": [],
   "source": [
    "f1 = tfa.metrics.F1Score(num_classes=6, average='macro', threshold=0.5)\n",
    "def get_model():\n",
    "    inp = Input(shape=(max_len,))\n",
    "#     x = Embedding(len(embed_mat), feat_vec, weights=[embed_mat], input_length=max_len,trainable=True)(inp) \n",
    "\n",
    "    embed_distill = Embedding(len(embed_trained[0]), feat_vec, weights=[embed_trained[0]], input_length=max_len,trainable=False)(inp) # trọng số của từ sẽ không được train lại\n",
    "    embed_train = Embedding(len(embed_trained[0]), feat_vec, weights=[embed_mat], input_length=max_len,trainable=True)(inp)\n",
    "#     reduce_embed_train = Dense(270, activation=\"relu\")(embed_train)\n",
    "\n",
    "#     embed_concat = Concatenate(axis=-1)([0.4*embed_distill,0.8*embed_train])\n",
    "#     x = Dropout(0.25)(embed_concat)\n",
    "\n",
    "    embed_combine = 0.8*embed_distill + 0.2*embed_train\n",
    "    x = Dropout(0.25)(embed_combine)\n",
    "\n",
    "#     lstm_distill = Bidirectional(LSTM(128, return_sequences=True))(x)\n",
    "#     reduce_lstm_distill = Dense(205, activation=\"relu\")(lstm_distill)\n",
    "#     lstm_train = Bidirectional(LSTM(128, return_sequences=True))(x)\n",
    "#     lstm_concat = Concatenate(axis=-1)([reduce_lstm_distill,lstm_train])\n",
    "#     lstm_combine = 0.5*lstm_distill+0.5*lstm_train\n",
    "    x = Bidirectional(LSTM(128, return_sequences=True), trainable=True)(x)\n",
    "\n",
    "#     convo_distill = Conv1D(64,3,activation=\"relu\")(lstm_combine)    \n",
    "#     convo_train = Conv1D(64,3,activation=\"relu\")(lstm_combine)\n",
    "#     convo_concat = Concatenate(axis=-1)([0.2*convo_distill,0.8*convo_train])\n",
    "#     convo_combine = 0.3*convo_distill+0.7*convo_train\n",
    "    x = Conv1D(64,3,activation=\"relu\")(x)\n",
    "    x = GlobalMaxPool1D()(x)\n",
    "#     x = Dropout(0.4)(x)\n",
    "\n",
    "    x = Dense(128, activation=\"relu\")(x)\n",
    "#     x = Dense(32, activation=\"relu\")(x)\n",
    "#     x = Dropout(0.4)(x)\n",
    "    x = Dense(6, activation=\"sigmoid\")(x)\n",
    "    model = Model(inputs=inp, outputs=x)\n",
    "#     model.layers[2].trainable = False\n",
    "    #     model.layers[11].trainable = False\n",
    "#     print(model.layers[6].trainable)\n",
    "    print(model.summary())\n",
    "\n",
    "    model.compile(loss='binary_crossentropy', optimizer=tf.keras.optimizers.Adam(lr=0.005), metrics= [f1])\n",
    "    return model"
   ]
  },
  {
   "cell_type": "code",
   "execution_count": 78,
   "id": "2b65bcd2",
   "metadata": {},
   "outputs": [],
   "source": [
    "def get_baseline_model():\n",
    "    inp = Input(shape=(max_len,))\n",
    "    x = Embedding(len(embed_mat), feat_vec, weights=[np.array(embed_mat)], input_length=max_len,trainable=True)(inp) # trọng số của từ sẽ không được train lại\n",
    "    x = Bidirectional(LSTM(128, return_sequences=True))(x)\n",
    "    x = Conv1D(64,3,activation=\"relu\")(x)\n",
    "    x = GlobalMaxPool1D()(x)\n",
    "    x = Dense(256, activation=\"relu\")(x)\n",
    "#     convo1 = Conv1D(64,3,activation=\"relu\")(x)\n",
    "#     convo1_maxpool = GlobalMaxPool1D()(convo1)\n",
    "#     convo2 = Conv1D(128,4,activation=\"relu\")(x)\n",
    "#     convo2_maxpool = GlobalMaxPool1D()(convo2)\n",
    "#     convo3 = Conv1D(64,5,activation=\"relu\")(x)\n",
    "#     convo3_maxpool = GlobalMaxPool1D()(convo3)\n",
    "#     concat1 = Concatenate()([convo1_maxpool, convo2_maxpool])\n",
    "#     concat2 = Concatenate()([concat1, convo3_maxpool])\n",
    "#     x = Dense(256, activation=\"relu\")(concat2)\n",
    "    \n",
    "    x = Dense(6, activation=\"sigmoid\")(x)\n",
    "    model = Model(inputs=inp, outputs=x)\n",
    "    print(model.summary())\n",
    "\n",
    "    return model\n",
    "    "
   ]
  },
  {
   "cell_type": "code",
   "execution_count": 80,
   "id": "c73f9617",
   "metadata": {},
   "outputs": [
    {
     "name": "stdout",
     "output_type": "stream",
     "text": [
      "Model: \"functional_35\"\n",
      "__________________________________________________________________________________________________\n",
      "Layer (type)                    Output Shape         Param #     Connected to                     \n",
      "==================================================================================================\n",
      "input_21 (InputLayer)           [(None, 40)]         0                                            \n",
      "__________________________________________________________________________________________________\n",
      "embedding_35 (Embedding)        (None, 40, 300)      1354200     input_21[0][0]                   \n",
      "__________________________________________________________________________________________________\n",
      "embedding_36 (Embedding)        (None, 40, 300)      1354200     input_21[0][0]                   \n",
      "__________________________________________________________________________________________________\n",
      "tf_op_layer_Mul_34 (TensorFlowO [(None, 40, 300)]    0           embedding_35[0][0]               \n",
      "__________________________________________________________________________________________________\n",
      "tf_op_layer_Mul_35 (TensorFlowO [(None, 40, 300)]    0           embedding_36[0][0]               \n",
      "__________________________________________________________________________________________________\n",
      "tf_op_layer_AddV2_15 (TensorFlo [(None, 40, 300)]    0           tf_op_layer_Mul_34[0][0]         \n",
      "                                                                 tf_op_layer_Mul_35[0][0]         \n",
      "__________________________________________________________________________________________________\n",
      "dropout_16 (Dropout)            (None, 40, 300)      0           tf_op_layer_AddV2_15[0][0]       \n",
      "__________________________________________________________________________________________________\n",
      "bidirectional_18 (Bidirectional (None, 40, 256)      439296      dropout_16[0][0]                 \n",
      "__________________________________________________________________________________________________\n",
      "conv1d_17 (Conv1D)              (None, 38, 64)       49216       bidirectional_18[0][0]           \n",
      "__________________________________________________________________________________________________\n",
      "global_max_pooling1d_17 (Global (None, 64)           0           conv1d_17[0][0]                  \n",
      "__________________________________________________________________________________________________\n",
      "dense_34 (Dense)                (None, 128)          8320        global_max_pooling1d_17[0][0]    \n",
      "__________________________________________________________________________________________________\n",
      "dense_35 (Dense)                (None, 6)            774         dense_34[0][0]                   \n",
      "==================================================================================================\n",
      "Total params: 3,206,006\n",
      "Trainable params: 1,851,806\n",
      "Non-trainable params: 1,354,200\n",
      "__________________________________________________________________________________________________\n",
      "None\n",
      "Model: \"functional_37\"\n",
      "_________________________________________________________________\n",
      "Layer (type)                 Output Shape              Param #   \n",
      "=================================================================\n",
      "input_22 (InputLayer)        [(None, 40)]              0         \n",
      "_________________________________________________________________\n",
      "embedding_37 (Embedding)     (None, 40, 300)           1354200   \n",
      "_________________________________________________________________\n",
      "bidirectional_19 (Bidirectio (None, 40, 256)           439296    \n",
      "_________________________________________________________________\n",
      "conv1d_18 (Conv1D)           (None, 38, 64)            49216     \n",
      "_________________________________________________________________\n",
      "global_max_pooling1d_18 (Glo (None, 64)                0         \n",
      "_________________________________________________________________\n",
      "dense_36 (Dense)             (None, 256)               16640     \n",
      "_________________________________________________________________\n",
      "dense_37 (Dense)             (None, 6)                 1542      \n",
      "=================================================================\n",
      "Total params: 1,860,894\n",
      "Trainable params: 1,860,894\n",
      "Non-trainable params: 0\n",
      "_________________________________________________________________\n",
      "None\n"
     ]
    }
   ],
   "source": [
    "best_model = get_model()\n",
    "best_model.load_weights('./weights/best models/embed 300 cong weight 0.9 distill dropout embed 0.25(82.24%).hdf5')\n"
   ]
  },
  {
   "cell_type": "code",
   "execution_count": 68,
   "id": "281b067c",
   "metadata": {},
   "outputs": [
    {
     "name": "stdout",
     "output_type": "stream",
     "text": [
      "threshold 0.10 f1 score:0.721\n",
      "threshold 0.11 f1 score:0.734\n",
      "threshold 0.12 f1 score:0.740\n",
      "threshold 0.13 f1 score:0.747\n",
      "threshold 0.14 f1 score:0.751\n",
      "threshold 0.15 f1 score:0.758\n",
      "threshold 0.16 f1 score:0.759\n",
      "threshold 0.17 f1 score:0.766\n",
      "threshold 0.18 f1 score:0.771\n",
      "threshold 0.19 f1 score:0.771\n",
      "threshold 0.20 f1 score:0.773\n",
      "threshold 0.21 f1 score:0.773\n",
      "threshold 0.22 f1 score:0.779\n",
      "threshold 0.23 f1 score:0.780\n",
      "threshold 0.24 f1 score:0.784\n",
      "threshold 0.25 f1 score:0.786\n",
      "threshold 0.26 f1 score:0.790\n",
      "threshold 0.27 f1 score:0.792\n",
      "threshold 0.28 f1 score:0.795\n",
      "threshold 0.29 f1 score:0.795\n",
      "threshold 0.30 f1 score:0.796\n",
      "threshold 0.31 f1 score:0.800\n",
      "threshold 0.32 f1 score:0.801\n",
      "threshold 0.33 f1 score:0.804\n",
      "threshold 0.34 f1 score:0.806\n",
      "threshold 0.35 f1 score:0.809\n",
      "threshold 0.36 f1 score:0.811\n",
      "threshold 0.37 f1 score:0.815\n",
      "threshold 0.38 f1 score:0.818\n",
      "threshold 0.39 f1 score:0.811\n",
      "threshold 0.40 f1 score:0.812\n",
      "threshold 0.41 f1 score:0.807\n",
      "threshold 0.42 f1 score:0.800\n",
      "threshold 0.43 f1 score:0.801\n",
      "threshold 0.44 f1 score:0.800\n",
      "threshold 0.45 f1 score:0.800\n",
      "threshold 0.46 f1 score:0.800\n",
      "threshold 0.47 f1 score:0.800\n",
      "threshold 0.48 f1 score:0.799\n",
      "threshold 0.49 f1 score:0.800\n",
      "threshold 0.50 f1 score:0.800\n",
      "threshold 0.51 f1 score:0.799\n",
      "threshold 0.52 f1 score:0.794\n",
      "threshold 0.53 f1 score:0.795\n",
      "threshold 0.54 f1 score:0.795\n",
      "threshold 0.55 f1 score:0.794\n",
      "threshold 0.56 f1 score:0.793\n",
      "threshold 0.57 f1 score:0.792\n",
      "threshold 0.58 f1 score:0.789\n",
      "threshold 0.59 f1 score:0.787\n",
      "threshold 0.60 f1 score:0.787\n",
      "threshold 0.61 f1 score:0.784\n",
      "threshold 0.62 f1 score:0.781\n",
      "threshold 0.63 f1 score:0.782\n",
      "threshold 0.64 f1 score:0.775\n",
      "threshold 0.65 f1 score:0.775\n",
      "threshold 0.66 f1 score:0.775\n",
      "threshold 0.67 f1 score:0.774\n",
      "threshold 0.68 f1 score:0.772\n",
      "threshold 0.69 f1 score:0.772\n",
      "threshold 0.70 f1 score:0.770\n",
      "threshold 0.71 f1 score:0.769\n",
      "threshold 0.72 f1 score:0.767\n",
      "threshold 0.73 f1 score:0.767\n",
      "threshold 0.74 f1 score:0.767\n",
      "threshold 0.75 f1 score:0.767\n",
      "threshold 0.76 f1 score:0.765\n",
      "threshold 0.77 f1 score:0.764\n",
      "threshold 0.78 f1 score:0.760\n",
      "threshold 0.79 f1 score:0.759\n",
      "threshold 0.80 f1 score:0.755\n",
      "threshold 0.81 f1 score:0.754\n",
      "threshold 0.82 f1 score:0.750\n",
      "threshold 0.83 f1 score:0.742\n",
      "threshold 0.84 f1 score:0.741\n",
      "threshold 0.85 f1 score:0.732\n",
      "threshold 0.86 f1 score:0.715\n",
      "threshold 0.87 f1 score:0.712\n",
      "threshold 0.88 f1 score:0.698\n",
      "threshold 0.89 f1 score:0.679\n"
     ]
    }
   ],
   "source": [
    "from sklearn import metrics\n",
    "def evaluate(X_test, y_test, model):    \n",
    "    y_pre = model.predict(X_test)\n",
    "    for thresh in np.arange(0.1,0.9,0.01):\n",
    "        print(\"threshold {0:2.2f} f1 score:{1:2.3f}\".format(thresh,metrics.f1_score(y_test,(y_pre>thresh).astype(int), average='macro')))\n",
    "    return y_pre\n",
    "y_pre=evaluate(X_test_tiki, y_test_tiki, best_model)"
   ]
  },
  {
   "cell_type": "code",
   "execution_count": 77,
   "id": "50b09d72",
   "metadata": {},
   "outputs": [
    {
     "name": "stdout",
     "output_type": "stream",
     "text": [
      "p: [0.9459459459459459, 0.8805970149253731, 0.75, 0.7559523809523809, 0.7708333333333334, 0.7384615384615385]\n",
      "r: [0.8860759493670886, 0.9147286821705426, 0.7272727272727273, 0.8819444444444444, 0.7254901960784313, 0.8571428571428571]\n",
      "f1: [0.9150326797385621, 0.8973384030418251, 0.7384615384615384, 0.814102564102564, 0.7474747474747475, 0.793388429752066]\n",
      "micro: (0.8292682926829268, 0.861850443599493, 0.8452454940957116)\n",
      "macro: (0.8206657350314067, 0.8271023998666468, 0.8224819865638475)\n"
     ]
    }
   ],
   "source": [
    "thresh=0.38\n",
    "\n",
    "y_pre_round = []\n",
    "for i in range(len(y_pre)):\n",
    "    y_pre_round.append(1*(y_pre[i] >= thresh))\n",
    "    y_pre_round[i] = y_pre_round[i].tolist()\n",
    "    \n",
    "import sys\n",
    "sys.path.append(r\"C:\\Users\\acer\\Documents\\hoc tap\\khóa luận\\mebe_domain\")\n",
    "from modules.evaluate import cal_aspect_prf\n",
    "\n",
    "X = cal_aspect_prf(y_test_ori_tiki.tolist(), y_pre_round, num_of_aspect=6, verbal=True)\n"
   ]
  },
  {
   "cell_type": "code",
   "execution_count": 85,
   "id": "db746214",
   "metadata": {},
   "outputs": [
    {
     "name": "stdout",
     "output_type": "stream",
     "text": [
      "Model: \"functional_41\"\n",
      "_________________________________________________________________\n",
      "Layer (type)                 Output Shape              Param #   \n",
      "=================================================================\n",
      "input_24 (InputLayer)        [(None, 40)]              0         \n",
      "_________________________________________________________________\n",
      "embedding_39 (Embedding)     (None, 40, 300)           1354200   \n",
      "_________________________________________________________________\n",
      "bidirectional_21 (Bidirectio (None, 40, 256)           439296    \n",
      "_________________________________________________________________\n",
      "conv1d_20 (Conv1D)           (None, 38, 64)            49216     \n",
      "_________________________________________________________________\n",
      "global_max_pooling1d_20 (Glo (None, 64)                0         \n",
      "_________________________________________________________________\n",
      "dense_40 (Dense)             (None, 256)               16640     \n",
      "_________________________________________________________________\n",
      "dense_41 (Dense)             (None, 6)                 1542      \n",
      "=================================================================\n",
      "Total params: 1,860,894\n",
      "Trainable params: 1,860,894\n",
      "Non-trainable params: 0\n",
      "_________________________________________________________________\n",
      "None\n"
     ]
    }
   ],
   "source": [
    "baseline_model = get_baseline_model()\n",
    "baseline_model.load_weights('./weights/best models/shopee_base.h5')"
   ]
  },
  {
   "cell_type": "code",
   "execution_count": 87,
   "id": "5861a1fa",
   "metadata": {},
   "outputs": [
    {
     "data": {
      "text/plain": [
       "tensorflow.python.keras.engine.functional.Functional"
      ]
     },
     "execution_count": 87,
     "metadata": {},
     "output_type": "execute_result"
    }
   ],
   "source": [
    "type(baseline_model)"
   ]
  },
  {
   "cell_type": "code",
   "execution_count": 88,
   "id": "0308e432",
   "metadata": {},
   "outputs": [
    {
     "name": "stdout",
     "output_type": "stream",
     "text": [
      "threshold 0.10 f1 score:0.690\n",
      "threshold 0.11 f1 score:0.694\n",
      "threshold 0.12 f1 score:0.694\n",
      "threshold 0.13 f1 score:0.697\n",
      "threshold 0.14 f1 score:0.693\n",
      "threshold 0.15 f1 score:0.696\n",
      "threshold 0.16 f1 score:0.699\n",
      "threshold 0.17 f1 score:0.700\n",
      "threshold 0.18 f1 score:0.701\n",
      "threshold 0.19 f1 score:0.704\n",
      "threshold 0.20 f1 score:0.705\n",
      "threshold 0.21 f1 score:0.706\n",
      "threshold 0.22 f1 score:0.705\n",
      "threshold 0.23 f1 score:0.703\n",
      "threshold 0.24 f1 score:0.705\n",
      "threshold 0.25 f1 score:0.704\n",
      "threshold 0.26 f1 score:0.705\n",
      "threshold 0.27 f1 score:0.706\n",
      "threshold 0.28 f1 score:0.707\n",
      "threshold 0.29 f1 score:0.707\n",
      "threshold 0.30 f1 score:0.705\n",
      "threshold 0.31 f1 score:0.706\n",
      "threshold 0.32 f1 score:0.707\n",
      "threshold 0.33 f1 score:0.704\n",
      "threshold 0.34 f1 score:0.704\n",
      "threshold 0.35 f1 score:0.705\n",
      "threshold 0.36 f1 score:0.705\n",
      "threshold 0.37 f1 score:0.707\n",
      "threshold 0.38 f1 score:0.708\n",
      "threshold 0.39 f1 score:0.709\n",
      "threshold 0.40 f1 score:0.709\n",
      "threshold 0.41 f1 score:0.709\n",
      "threshold 0.42 f1 score:0.712\n",
      "threshold 0.43 f1 score:0.716\n",
      "threshold 0.44 f1 score:0.716\n",
      "threshold 0.45 f1 score:0.716\n",
      "threshold 0.46 f1 score:0.715\n",
      "threshold 0.47 f1 score:0.716\n",
      "threshold 0.48 f1 score:0.715\n",
      "threshold 0.49 f1 score:0.714\n",
      "threshold 0.50 f1 score:0.714\n",
      "threshold 0.51 f1 score:0.714\n",
      "threshold 0.52 f1 score:0.717\n",
      "threshold 0.53 f1 score:0.717\n",
      "threshold 0.54 f1 score:0.715\n",
      "threshold 0.55 f1 score:0.715\n",
      "threshold 0.56 f1 score:0.716\n",
      "threshold 0.57 f1 score:0.717\n",
      "threshold 0.58 f1 score:0.718\n",
      "threshold 0.59 f1 score:0.718\n",
      "threshold 0.60 f1 score:0.720\n",
      "threshold 0.61 f1 score:0.720\n",
      "threshold 0.62 f1 score:0.717\n",
      "threshold 0.63 f1 score:0.711\n",
      "threshold 0.64 f1 score:0.712\n",
      "threshold 0.65 f1 score:0.712\n",
      "threshold 0.66 f1 score:0.712\n",
      "threshold 0.67 f1 score:0.711\n",
      "threshold 0.68 f1 score:0.713\n",
      "threshold 0.69 f1 score:0.714\n",
      "threshold 0.70 f1 score:0.713\n",
      "threshold 0.71 f1 score:0.708\n",
      "threshold 0.72 f1 score:0.709\n",
      "threshold 0.73 f1 score:0.712\n",
      "threshold 0.74 f1 score:0.708\n",
      "threshold 0.75 f1 score:0.709\n",
      "threshold 0.76 f1 score:0.709\n",
      "threshold 0.77 f1 score:0.710\n",
      "threshold 0.78 f1 score:0.711\n",
      "threshold 0.79 f1 score:0.710\n",
      "threshold 0.80 f1 score:0.711\n",
      "threshold 0.81 f1 score:0.712\n",
      "threshold 0.82 f1 score:0.713\n",
      "threshold 0.83 f1 score:0.712\n",
      "threshold 0.84 f1 score:0.712\n",
      "threshold 0.85 f1 score:0.713\n",
      "threshold 0.86 f1 score:0.712\n",
      "threshold 0.87 f1 score:0.712\n",
      "threshold 0.88 f1 score:0.711\n",
      "threshold 0.89 f1 score:0.708\n"
     ]
    }
   ],
   "source": [
    "y_pre_base=evaluate(X_test_tiki, y_test_tiki, baseline_model)"
   ]
  },
  {
   "cell_type": "code",
   "execution_count": 213,
   "id": "dd3df8e5",
   "metadata": {},
   "outputs": [],
   "source": [
    "thresh=0.99\n",
    "\n",
    "y_pre_base_round = []\n",
    "for i in range(len(y_pre_base)):\n",
    "    y_pre_base_round.append(1*(y_pre_base[i] >= thresh))\n",
    "    y_pre_base_round[i] = y_pre_base_round[i].tolist()"
   ]
  },
  {
   "cell_type": "code",
   "execution_count": 214,
   "id": "e8f63b27",
   "metadata": {},
   "outputs": [
    {
     "data": {
      "text/plain": [
       "[0, 0, 0, 0, 1, 0]"
      ]
     },
     "execution_count": 214,
     "metadata": {},
     "output_type": "execute_result"
    }
   ],
   "source": [
    "y_pre_base_round[2]"
   ]
  },
  {
   "cell_type": "code",
   "execution_count": 215,
   "id": "f3ae6284",
   "metadata": {},
   "outputs": [
    {
     "data": {
      "text/plain": [
       "[0, 0, 0, 0, 1, 0]"
      ]
     },
     "execution_count": 215,
     "metadata": {},
     "output_type": "execute_result"
    }
   ],
   "source": [
    "y_pre_round[2]"
   ]
  },
  {
   "cell_type": "code",
   "execution_count": 216,
   "id": "2dd3901c",
   "metadata": {},
   "outputs": [],
   "source": [
    "final_pre = np.logical_or(y_pre_round, y_pre_base_round)"
   ]
  },
  {
   "cell_type": "code",
   "execution_count": 217,
   "id": "d9e06f47",
   "metadata": {},
   "outputs": [],
   "source": [
    "final_pre = (1*final_pre).tolist()"
   ]
  },
  {
   "cell_type": "code",
   "execution_count": 218,
   "id": "ace0bfcc",
   "metadata": {},
   "outputs": [
    {
     "name": "stdout",
     "output_type": "stream",
     "text": [
      "p: [0.9152542372881356, 0.8450704225352113, 0.7352941176470589, 0.7277777777777777, 0.7027027027027027, 0.676056338028169]\n",
      "r: [0.9113924050632911, 0.9302325581395349, 0.7575757575757576, 0.9097222222222222, 0.7647058823529411, 0.8571428571428571]\n",
      "f1: [0.9133192389006343, 0.8856088560885608, 0.746268656716418, 0.808641975308642, 0.7323943661971832, 0.7559055118110235]\n",
      "micro: (0.7938844847112118, 0.8884664131812421, 0.8385167464114832)\n",
      "macro: (0.7852198515901773, 0.8547257650707494, 0.8172466186422878)\n"
     ]
    }
   ],
   "source": [
    "X = cal_aspect_prf(y_test_ori_tiki.tolist(), final_pre, num_of_aspect=6, verbal=True)\n"
   ]
  },
  {
   "cell_type": "code",
   "execution_count": null,
   "id": "63e2f048",
   "metadata": {},
   "outputs": [],
   "source": []
  },
  {
   "cell_type": "code",
   "execution_count": null,
   "id": "4e312555",
   "metadata": {},
   "outputs": [],
   "source": []
  }
 ],
 "metadata": {
  "kernelspec": {
   "display_name": "Python 3 (ipykernel)",
   "language": "python",
   "name": "python3"
  },
  "language_info": {
   "codemirror_mode": {
    "name": "ipython",
    "version": 3
   },
   "file_extension": ".py",
   "mimetype": "text/x-python",
   "name": "python",
   "nbconvert_exporter": "python",
   "pygments_lexer": "ipython3",
   "version": "3.7.11"
  }
 },
 "nbformat": 4,
 "nbformat_minor": 5
}
